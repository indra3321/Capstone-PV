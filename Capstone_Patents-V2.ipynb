{
 "cells": [
  {
   "cell_type": "code",
   "execution_count": 51,
   "metadata": {
    "collapsed": true
   },
   "outputs": [],
   "source": [
    "import numpy as np\n",
    "import matplotlib.pyplot as plt\n",
    "import pandas as pd\n",
    "%matplotlib inline\n",
    "import math"
   ]
  },
  {
   "cell_type": "code",
   "execution_count": 52,
   "metadata": {
    "collapsed": true
   },
   "outputs": [],
   "source": [
    "data = pd.read_csv(\"train_data_set_1128.csv\")"
   ]
  },
  {
   "cell_type": "code",
   "execution_count": 53,
   "metadata": {
    "collapsed": false
   },
   "outputs": [
    {
     "data": {
      "text/html": [
       "<div>\n",
       "<table border=\"1\" class=\"dataframe\">\n",
       "  <thead>\n",
       "    <tr style=\"text-align: right;\">\n",
       "      <th></th>\n",
       "      <th>patnum</th>\n",
       "      <th>fdate</th>\n",
       "      <th>idate</th>\n",
       "      <th>pdate</th>\n",
       "      <th>ncites</th>\n",
       "      <th>xi</th>\n",
       "      <th>renewal_cnt</th>\n",
       "      <th>num_claims</th>\n",
       "      <th>iss_duration</th>\n",
       "      <th>age</th>\n",
       "      <th>Num_Inventor</th>\n",
       "      <th>num_bcit</th>\n",
       "    </tr>\n",
       "  </thead>\n",
       "  <tbody>\n",
       "    <tr>\n",
       "      <th>0</th>\n",
       "      <td>6208775</td>\n",
       "      <td>6/22/99</td>\n",
       "      <td>3/27/01</td>\n",
       "      <td>1/3/02</td>\n",
       "      <td>0</td>\n",
       "      <td>0.579550</td>\n",
       "      <td>0</td>\n",
       "      <td>6</td>\n",
       "      <td>644</td>\n",
       "      <td>3793</td>\n",
       "      <td>1.0</td>\n",
       "      <td>3.0</td>\n",
       "    </tr>\n",
       "    <tr>\n",
       "      <th>1</th>\n",
       "      <td>6232247</td>\n",
       "      <td>10/4/99</td>\n",
       "      <td>5/15/01</td>\n",
       "      <td>5/31/01</td>\n",
       "      <td>8</td>\n",
       "      <td>5.658767</td>\n",
       "      <td>3</td>\n",
       "      <td>34</td>\n",
       "      <td>589</td>\n",
       "      <td>3744</td>\n",
       "      <td>2.0</td>\n",
       "      <td>7.0</td>\n",
       "    </tr>\n",
       "    <tr>\n",
       "      <th>2</th>\n",
       "      <td>6234712</td>\n",
       "      <td>12/4/99</td>\n",
       "      <td>5/22/01</td>\n",
       "      <td>10/11/01</td>\n",
       "      <td>3</td>\n",
       "      <td>7.215693</td>\n",
       "      <td>3</td>\n",
       "      <td>27</td>\n",
       "      <td>535</td>\n",
       "      <td>3737</td>\n",
       "      <td>4.0</td>\n",
       "      <td>3.0</td>\n",
       "    </tr>\n",
       "    <tr>\n",
       "      <th>3</th>\n",
       "      <td>6245142</td>\n",
       "      <td>1/12/99</td>\n",
       "      <td>6/12/01</td>\n",
       "      <td>5/24/01</td>\n",
       "      <td>65</td>\n",
       "      <td>20.183134</td>\n",
       "      <td>3</td>\n",
       "      <td>12</td>\n",
       "      <td>882</td>\n",
       "      <td>3716</td>\n",
       "      <td>5.0</td>\n",
       "      <td>42.0</td>\n",
       "    </tr>\n",
       "    <tr>\n",
       "      <th>4</th>\n",
       "      <td>6256247</td>\n",
       "      <td>12/19/00</td>\n",
       "      <td>7/3/01</td>\n",
       "      <td>8/9/01</td>\n",
       "      <td>77</td>\n",
       "      <td>14.787725</td>\n",
       "      <td>3</td>\n",
       "      <td>22</td>\n",
       "      <td>196</td>\n",
       "      <td>3695</td>\n",
       "      <td>1.0</td>\n",
       "      <td>4.0</td>\n",
       "    </tr>\n",
       "  </tbody>\n",
       "</table>\n",
       "</div>"
      ],
      "text/plain": [
       "    patnum     fdate    idate     pdate  ncites         xi  renewal_cnt  \\\n",
       "0  6208775   6/22/99  3/27/01    1/3/02       0   0.579550            0   \n",
       "1  6232247   10/4/99  5/15/01   5/31/01       8   5.658767            3   \n",
       "2  6234712   12/4/99  5/22/01  10/11/01       3   7.215693            3   \n",
       "3  6245142   1/12/99  6/12/01   5/24/01      65  20.183134            3   \n",
       "4  6256247  12/19/00   7/3/01    8/9/01      77  14.787725            3   \n",
       "\n",
       "   num_claims  iss_duration   age  Num_Inventor  num_bcit  \n",
       "0           6           644  3793           1.0       3.0  \n",
       "1          34           589  3744           2.0       7.0  \n",
       "2          27           535  3737           4.0       3.0  \n",
       "3          12           882  3716           5.0      42.0  \n",
       "4          22           196  3695           1.0       4.0  "
      ]
     },
     "execution_count": 53,
     "metadata": {},
     "output_type": "execute_result"
    }
   ],
   "source": [
    "del data['Unnamed: 0']\n",
    "del data['Unnamed: 0.1']\n",
    "data.head()"
   ]
  },
  {
   "cell_type": "code",
   "execution_count": 54,
   "metadata": {
    "collapsed": false
   },
   "outputs": [
    {
     "data": {
      "text/html": [
       "<div>\n",
       "<table border=\"1\" class=\"dataframe\">\n",
       "  <thead>\n",
       "    <tr style=\"text-align: right;\">\n",
       "      <th></th>\n",
       "      <th>patnum</th>\n",
       "      <th>ncites</th>\n",
       "      <th>xi</th>\n",
       "      <th>renewal_cnt</th>\n",
       "      <th>num_claims</th>\n",
       "      <th>iss_duration</th>\n",
       "      <th>age</th>\n",
       "      <th>Num_Inventor</th>\n",
       "      <th>num_bcit</th>\n",
       "    </tr>\n",
       "  </thead>\n",
       "  <tbody>\n",
       "    <tr>\n",
       "      <th>patnum</th>\n",
       "      <td>1.000000</td>\n",
       "      <td>-0.310036</td>\n",
       "      <td>-0.008478</td>\n",
       "      <td>-0.600998</td>\n",
       "      <td>-0.046683</td>\n",
       "      <td>0.432328</td>\n",
       "      <td>-0.999596</td>\n",
       "      <td>0.024864</td>\n",
       "      <td>0.096334</td>\n",
       "    </tr>\n",
       "    <tr>\n",
       "      <th>ncites</th>\n",
       "      <td>-0.310036</td>\n",
       "      <td>1.000000</td>\n",
       "      <td>0.020752</td>\n",
       "      <td>0.248692</td>\n",
       "      <td>0.147792</td>\n",
       "      <td>-0.092116</td>\n",
       "      <td>0.311009</td>\n",
       "      <td>0.035284</td>\n",
       "      <td>0.088574</td>\n",
       "    </tr>\n",
       "    <tr>\n",
       "      <th>xi</th>\n",
       "      <td>-0.008478</td>\n",
       "      <td>0.020752</td>\n",
       "      <td>1.000000</td>\n",
       "      <td>0.002113</td>\n",
       "      <td>0.064640</td>\n",
       "      <td>0.012725</td>\n",
       "      <td>0.007093</td>\n",
       "      <td>0.060887</td>\n",
       "      <td>0.047257</td>\n",
       "    </tr>\n",
       "    <tr>\n",
       "      <th>renewal_cnt</th>\n",
       "      <td>-0.600998</td>\n",
       "      <td>0.248692</td>\n",
       "      <td>0.002113</td>\n",
       "      <td>1.000000</td>\n",
       "      <td>0.080064</td>\n",
       "      <td>-0.269327</td>\n",
       "      <td>0.597915</td>\n",
       "      <td>-0.028399</td>\n",
       "      <td>-0.038387</td>\n",
       "    </tr>\n",
       "    <tr>\n",
       "      <th>num_claims</th>\n",
       "      <td>-0.046683</td>\n",
       "      <td>0.147792</td>\n",
       "      <td>0.064640</td>\n",
       "      <td>0.080064</td>\n",
       "      <td>1.000000</td>\n",
       "      <td>0.089719</td>\n",
       "      <td>0.047127</td>\n",
       "      <td>0.032995</td>\n",
       "      <td>0.131963</td>\n",
       "    </tr>\n",
       "    <tr>\n",
       "      <th>iss_duration</th>\n",
       "      <td>0.432328</td>\n",
       "      <td>-0.092116</td>\n",
       "      <td>0.012725</td>\n",
       "      <td>-0.269327</td>\n",
       "      <td>0.089719</td>\n",
       "      <td>1.000000</td>\n",
       "      <td>-0.432857</td>\n",
       "      <td>0.018917</td>\n",
       "      <td>0.070028</td>\n",
       "    </tr>\n",
       "    <tr>\n",
       "      <th>age</th>\n",
       "      <td>-0.999596</td>\n",
       "      <td>0.311009</td>\n",
       "      <td>0.007093</td>\n",
       "      <td>0.597915</td>\n",
       "      <td>0.047127</td>\n",
       "      <td>-0.432857</td>\n",
       "      <td>1.000000</td>\n",
       "      <td>-0.024924</td>\n",
       "      <td>-0.096484</td>\n",
       "    </tr>\n",
       "    <tr>\n",
       "      <th>Num_Inventor</th>\n",
       "      <td>0.024864</td>\n",
       "      <td>0.035284</td>\n",
       "      <td>0.060887</td>\n",
       "      <td>-0.028399</td>\n",
       "      <td>0.032995</td>\n",
       "      <td>0.018917</td>\n",
       "      <td>-0.024924</td>\n",
       "      <td>1.000000</td>\n",
       "      <td>0.088712</td>\n",
       "    </tr>\n",
       "    <tr>\n",
       "      <th>num_bcit</th>\n",
       "      <td>0.096334</td>\n",
       "      <td>0.088574</td>\n",
       "      <td>0.047257</td>\n",
       "      <td>-0.038387</td>\n",
       "      <td>0.131963</td>\n",
       "      <td>0.070028</td>\n",
       "      <td>-0.096484</td>\n",
       "      <td>0.088712</td>\n",
       "      <td>1.000000</td>\n",
       "    </tr>\n",
       "  </tbody>\n",
       "</table>\n",
       "</div>"
      ],
      "text/plain": [
       "                patnum    ncites        xi  renewal_cnt  num_claims  \\\n",
       "patnum        1.000000 -0.310036 -0.008478    -0.600998   -0.046683   \n",
       "ncites       -0.310036  1.000000  0.020752     0.248692    0.147792   \n",
       "xi           -0.008478  0.020752  1.000000     0.002113    0.064640   \n",
       "renewal_cnt  -0.600998  0.248692  0.002113     1.000000    0.080064   \n",
       "num_claims   -0.046683  0.147792  0.064640     0.080064    1.000000   \n",
       "iss_duration  0.432328 -0.092116  0.012725    -0.269327    0.089719   \n",
       "age          -0.999596  0.311009  0.007093     0.597915    0.047127   \n",
       "Num_Inventor  0.024864  0.035284  0.060887    -0.028399    0.032995   \n",
       "num_bcit      0.096334  0.088574  0.047257    -0.038387    0.131963   \n",
       "\n",
       "              iss_duration       age  Num_Inventor  num_bcit  \n",
       "patnum            0.432328 -0.999596      0.024864  0.096334  \n",
       "ncites           -0.092116  0.311009      0.035284  0.088574  \n",
       "xi                0.012725  0.007093      0.060887  0.047257  \n",
       "renewal_cnt      -0.269327  0.597915     -0.028399 -0.038387  \n",
       "num_claims        0.089719  0.047127      0.032995  0.131963  \n",
       "iss_duration      1.000000 -0.432857      0.018917  0.070028  \n",
       "age              -0.432857  1.000000     -0.024924 -0.096484  \n",
       "Num_Inventor      0.018917 -0.024924      1.000000  0.088712  \n",
       "num_bcit          0.070028 -0.096484      0.088712  1.000000  "
      ]
     },
     "execution_count": 54,
     "metadata": {},
     "output_type": "execute_result"
    }
   ],
   "source": [
    "data.corr()"
   ]
  },
  {
   "cell_type": "code",
   "execution_count": 55,
   "metadata": {
    "collapsed": false
   },
   "outputs": [],
   "source": [
    "target = data['xi']\n",
    "del data['xi']"
   ]
  },
  {
   "cell_type": "code",
   "execution_count": 56,
   "metadata": {
    "collapsed": false
   },
   "outputs": [
    {
     "data": {
      "text/html": [
       "<div>\n",
       "<table border=\"1\" class=\"dataframe\">\n",
       "  <thead>\n",
       "    <tr style=\"text-align: right;\">\n",
       "      <th></th>\n",
       "      <th>patnum</th>\n",
       "      <th>ncites</th>\n",
       "      <th>renewal_cnt</th>\n",
       "      <th>num_claims</th>\n",
       "      <th>iss_duration</th>\n",
       "      <th>age</th>\n",
       "      <th>Num_Inventor</th>\n",
       "      <th>num_bcit</th>\n",
       "    </tr>\n",
       "  </thead>\n",
       "  <tbody>\n",
       "    <tr>\n",
       "      <th>0</th>\n",
       "      <td>6208775</td>\n",
       "      <td>0</td>\n",
       "      <td>0</td>\n",
       "      <td>6</td>\n",
       "      <td>644</td>\n",
       "      <td>3793</td>\n",
       "      <td>1.0</td>\n",
       "      <td>3.0</td>\n",
       "    </tr>\n",
       "    <tr>\n",
       "      <th>1</th>\n",
       "      <td>6232247</td>\n",
       "      <td>8</td>\n",
       "      <td>3</td>\n",
       "      <td>34</td>\n",
       "      <td>589</td>\n",
       "      <td>3744</td>\n",
       "      <td>2.0</td>\n",
       "      <td>7.0</td>\n",
       "    </tr>\n",
       "    <tr>\n",
       "      <th>2</th>\n",
       "      <td>6234712</td>\n",
       "      <td>3</td>\n",
       "      <td>3</td>\n",
       "      <td>27</td>\n",
       "      <td>535</td>\n",
       "      <td>3737</td>\n",
       "      <td>4.0</td>\n",
       "      <td>3.0</td>\n",
       "    </tr>\n",
       "    <tr>\n",
       "      <th>3</th>\n",
       "      <td>6245142</td>\n",
       "      <td>65</td>\n",
       "      <td>3</td>\n",
       "      <td>12</td>\n",
       "      <td>882</td>\n",
       "      <td>3716</td>\n",
       "      <td>5.0</td>\n",
       "      <td>42.0</td>\n",
       "    </tr>\n",
       "    <tr>\n",
       "      <th>4</th>\n",
       "      <td>6256247</td>\n",
       "      <td>77</td>\n",
       "      <td>3</td>\n",
       "      <td>22</td>\n",
       "      <td>196</td>\n",
       "      <td>3695</td>\n",
       "      <td>1.0</td>\n",
       "      <td>4.0</td>\n",
       "    </tr>\n",
       "  </tbody>\n",
       "</table>\n",
       "</div>"
      ],
      "text/plain": [
       "    patnum  ncites  renewal_cnt  num_claims  iss_duration   age  Num_Inventor  \\\n",
       "0  6208775       0            0           6           644  3793           1.0   \n",
       "1  6232247       8            3          34           589  3744           2.0   \n",
       "2  6234712       3            3          27           535  3737           4.0   \n",
       "3  6245142      65            3          12           882  3716           5.0   \n",
       "4  6256247      77            3          22           196  3695           1.0   \n",
       "\n",
       "   num_bcit  \n",
       "0       3.0  \n",
       "1       7.0  \n",
       "2       3.0  \n",
       "3      42.0  \n",
       "4       4.0  "
      ]
     },
     "execution_count": 56,
     "metadata": {},
     "output_type": "execute_result"
    }
   ],
   "source": [
    "del data['idate']\n",
    "del data['pdate']\n",
    "del data['fdate']\n",
    "data.head()"
   ]
  },
  {
   "cell_type": "code",
   "execution_count": 57,
   "metadata": {
    "collapsed": false
   },
   "outputs": [
    {
     "data": {
      "text/html": [
       "<div>\n",
       "<table border=\"1\" class=\"dataframe\">\n",
       "  <thead>\n",
       "    <tr style=\"text-align: right;\">\n",
       "      <th></th>\n",
       "      <th>ncites</th>\n",
       "      <th>renewal_cnt</th>\n",
       "      <th>num_claims</th>\n",
       "      <th>iss_duration</th>\n",
       "      <th>age</th>\n",
       "      <th>Num_Inventor</th>\n",
       "      <th>num_bcit</th>\n",
       "    </tr>\n",
       "    <tr>\n",
       "      <th>patnum</th>\n",
       "      <th></th>\n",
       "      <th></th>\n",
       "      <th></th>\n",
       "      <th></th>\n",
       "      <th></th>\n",
       "      <th></th>\n",
       "      <th></th>\n",
       "    </tr>\n",
       "  </thead>\n",
       "  <tbody>\n",
       "    <tr>\n",
       "      <th>6208775</th>\n",
       "      <td>0</td>\n",
       "      <td>0</td>\n",
       "      <td>6</td>\n",
       "      <td>644</td>\n",
       "      <td>3793</td>\n",
       "      <td>1.0</td>\n",
       "      <td>3.0</td>\n",
       "    </tr>\n",
       "    <tr>\n",
       "      <th>6232247</th>\n",
       "      <td>8</td>\n",
       "      <td>3</td>\n",
       "      <td>34</td>\n",
       "      <td>589</td>\n",
       "      <td>3744</td>\n",
       "      <td>2.0</td>\n",
       "      <td>7.0</td>\n",
       "    </tr>\n",
       "    <tr>\n",
       "      <th>6234712</th>\n",
       "      <td>3</td>\n",
       "      <td>3</td>\n",
       "      <td>27</td>\n",
       "      <td>535</td>\n",
       "      <td>3737</td>\n",
       "      <td>4.0</td>\n",
       "      <td>3.0</td>\n",
       "    </tr>\n",
       "    <tr>\n",
       "      <th>6245142</th>\n",
       "      <td>65</td>\n",
       "      <td>3</td>\n",
       "      <td>12</td>\n",
       "      <td>882</td>\n",
       "      <td>3716</td>\n",
       "      <td>5.0</td>\n",
       "      <td>42.0</td>\n",
       "    </tr>\n",
       "    <tr>\n",
       "      <th>6256247</th>\n",
       "      <td>77</td>\n",
       "      <td>3</td>\n",
       "      <td>22</td>\n",
       "      <td>196</td>\n",
       "      <td>3695</td>\n",
       "      <td>1.0</td>\n",
       "      <td>4.0</td>\n",
       "    </tr>\n",
       "  </tbody>\n",
       "</table>\n",
       "</div>"
      ],
      "text/plain": [
       "         ncites  renewal_cnt  num_claims  iss_duration   age  Num_Inventor  \\\n",
       "patnum                                                                       \n",
       "6208775       0            0           6           644  3793           1.0   \n",
       "6232247       8            3          34           589  3744           2.0   \n",
       "6234712       3            3          27           535  3737           4.0   \n",
       "6245142      65            3          12           882  3716           5.0   \n",
       "6256247      77            3          22           196  3695           1.0   \n",
       "\n",
       "         num_bcit  \n",
       "patnum             \n",
       "6208775       3.0  \n",
       "6232247       7.0  \n",
       "6234712       3.0  \n",
       "6245142      42.0  \n",
       "6256247       4.0  "
      ]
     },
     "execution_count": 57,
     "metadata": {},
     "output_type": "execute_result"
    }
   ],
   "source": [
    "data = data.set_index(['patnum'])\n",
    "data.head()"
   ]
  },
  {
   "cell_type": "code",
   "execution_count": 55,
   "metadata": {
    "collapsed": false
   },
   "outputs": [],
   "source": [
    "del data['age']"
   ]
  },
  {
   "cell_type": "code",
   "execution_count": 60,
   "metadata": {
    "collapsed": false
   },
   "outputs": [],
   "source": [
    "#data = pd.get_dummies(data, columns=['renewal_cnt'])"
   ]
  },
  {
   "cell_type": "code",
   "execution_count": 9,
   "metadata": {
    "collapsed": false
   },
   "outputs": [
    {
     "data": {
      "text/html": [
       "<div>\n",
       "<table border=\"1\" class=\"dataframe\">\n",
       "  <thead>\n",
       "    <tr style=\"text-align: right;\">\n",
       "      <th></th>\n",
       "      <th>ncites</th>\n",
       "      <th>renewal_cnt</th>\n",
       "      <th>num_claims</th>\n",
       "      <th>iss_duration</th>\n",
       "      <th>Num_Inventor</th>\n",
       "      <th>num_bcit</th>\n",
       "    </tr>\n",
       "    <tr>\n",
       "      <th>patnum</th>\n",
       "      <th></th>\n",
       "      <th></th>\n",
       "      <th></th>\n",
       "      <th></th>\n",
       "      <th></th>\n",
       "      <th></th>\n",
       "    </tr>\n",
       "  </thead>\n",
       "  <tbody>\n",
       "    <tr>\n",
       "      <th>6208775</th>\n",
       "      <td>0</td>\n",
       "      <td>0</td>\n",
       "      <td>6</td>\n",
       "      <td>644</td>\n",
       "      <td>1.0</td>\n",
       "      <td>3.0</td>\n",
       "    </tr>\n",
       "    <tr>\n",
       "      <th>6232247</th>\n",
       "      <td>8</td>\n",
       "      <td>3</td>\n",
       "      <td>34</td>\n",
       "      <td>589</td>\n",
       "      <td>2.0</td>\n",
       "      <td>7.0</td>\n",
       "    </tr>\n",
       "    <tr>\n",
       "      <th>6234712</th>\n",
       "      <td>3</td>\n",
       "      <td>3</td>\n",
       "      <td>27</td>\n",
       "      <td>535</td>\n",
       "      <td>4.0</td>\n",
       "      <td>3.0</td>\n",
       "    </tr>\n",
       "    <tr>\n",
       "      <th>6245142</th>\n",
       "      <td>65</td>\n",
       "      <td>3</td>\n",
       "      <td>12</td>\n",
       "      <td>882</td>\n",
       "      <td>5.0</td>\n",
       "      <td>42.0</td>\n",
       "    </tr>\n",
       "    <tr>\n",
       "      <th>6256247</th>\n",
       "      <td>77</td>\n",
       "      <td>3</td>\n",
       "      <td>22</td>\n",
       "      <td>196</td>\n",
       "      <td>1.0</td>\n",
       "      <td>4.0</td>\n",
       "    </tr>\n",
       "    <tr>\n",
       "      <th>6258768</th>\n",
       "      <td>0</td>\n",
       "      <td>2</td>\n",
       "      <td>12</td>\n",
       "      <td>1055</td>\n",
       "      <td>1.0</td>\n",
       "      <td>10.0</td>\n",
       "    </tr>\n",
       "    <tr>\n",
       "      <th>6260529</th>\n",
       "      <td>5</td>\n",
       "      <td>1</td>\n",
       "      <td>12</td>\n",
       "      <td>158</td>\n",
       "      <td>12.0</td>\n",
       "      <td>32.0</td>\n",
       "    </tr>\n",
       "    <tr>\n",
       "      <th>6261218</th>\n",
       "      <td>1</td>\n",
       "      <td>3</td>\n",
       "      <td>13</td>\n",
       "      <td>959</td>\n",
       "      <td>1.0</td>\n",
       "      <td>10.0</td>\n",
       "    </tr>\n",
       "    <tr>\n",
       "      <th>6262077</th>\n",
       "      <td>1</td>\n",
       "      <td>0</td>\n",
       "      <td>10</td>\n",
       "      <td>186</td>\n",
       "      <td>1.0</td>\n",
       "      <td>1.0</td>\n",
       "    </tr>\n",
       "    <tr>\n",
       "      <th>6262206</th>\n",
       "      <td>27</td>\n",
       "      <td>1</td>\n",
       "      <td>4</td>\n",
       "      <td>1100</td>\n",
       "      <td>4.0</td>\n",
       "      <td>2.0</td>\n",
       "    </tr>\n",
       "  </tbody>\n",
       "</table>\n",
       "</div>"
      ],
      "text/plain": [
       "         ncites  renewal_cnt  num_claims  iss_duration  Num_Inventor  num_bcit\n",
       "patnum                                                                        \n",
       "6208775       0            0           6           644           1.0       3.0\n",
       "6232247       8            3          34           589           2.0       7.0\n",
       "6234712       3            3          27           535           4.0       3.0\n",
       "6245142      65            3          12           882           5.0      42.0\n",
       "6256247      77            3          22           196           1.0       4.0\n",
       "6258768       0            2          12          1055           1.0      10.0\n",
       "6260529       5            1          12           158          12.0      32.0\n",
       "6261218       1            3          13           959           1.0      10.0\n",
       "6262077       1            0          10           186           1.0       1.0\n",
       "6262206      27            1           4          1100           4.0       2.0"
      ]
     },
     "execution_count": 9,
     "metadata": {},
     "output_type": "execute_result"
    }
   ],
   "source": [
    "data.head(n=10)"
   ]
  },
  {
   "cell_type": "code",
   "execution_count": 74,
   "metadata": {
    "collapsed": false
   },
   "outputs": [
    {
     "data": {
      "text/html": [
       "<div>\n",
       "<table border=\"1\" class=\"dataframe\">\n",
       "  <thead>\n",
       "    <tr style=\"text-align: right;\">\n",
       "      <th></th>\n",
       "      <th>ncites</th>\n",
       "      <th>num_claims</th>\n",
       "      <th>iss_duration</th>\n",
       "      <th>Num_Inventor</th>\n",
       "      <th>num_bcit</th>\n",
       "      <th>renewal_cnt_0</th>\n",
       "      <th>renewal_cnt_1</th>\n",
       "      <th>renewal_cnt_2</th>\n",
       "      <th>renewal_cnt_3</th>\n",
       "    </tr>\n",
       "  </thead>\n",
       "  <tbody>\n",
       "    <tr>\n",
       "      <th>ncites</th>\n",
       "      <td>1.000000</td>\n",
       "      <td>0.147792</td>\n",
       "      <td>-0.092116</td>\n",
       "      <td>0.035284</td>\n",
       "      <td>0.088574</td>\n",
       "      <td>-0.094190</td>\n",
       "      <td>-0.181178</td>\n",
       "      <td>0.251812</td>\n",
       "      <td>0.098250</td>\n",
       "    </tr>\n",
       "    <tr>\n",
       "      <th>num_claims</th>\n",
       "      <td>0.147792</td>\n",
       "      <td>1.000000</td>\n",
       "      <td>0.089719</td>\n",
       "      <td>0.032995</td>\n",
       "      <td>0.131963</td>\n",
       "      <td>-0.063010</td>\n",
       "      <td>-0.018528</td>\n",
       "      <td>0.069252</td>\n",
       "      <td>-0.003752</td>\n",
       "    </tr>\n",
       "    <tr>\n",
       "      <th>iss_duration</th>\n",
       "      <td>-0.092116</td>\n",
       "      <td>0.089719</td>\n",
       "      <td>1.000000</td>\n",
       "      <td>0.018917</td>\n",
       "      <td>0.070028</td>\n",
       "      <td>0.096618</td>\n",
       "      <td>0.209490</td>\n",
       "      <td>-0.289337</td>\n",
       "      <td>-0.072998</td>\n",
       "    </tr>\n",
       "    <tr>\n",
       "      <th>Num_Inventor</th>\n",
       "      <td>0.035284</td>\n",
       "      <td>0.032995</td>\n",
       "      <td>0.018917</td>\n",
       "      <td>1.000000</td>\n",
       "      <td>0.088712</td>\n",
       "      <td>0.020865</td>\n",
       "      <td>0.008214</td>\n",
       "      <td>-0.024737</td>\n",
       "      <td>-0.001249</td>\n",
       "    </tr>\n",
       "    <tr>\n",
       "      <th>num_bcit</th>\n",
       "      <td>0.088574</td>\n",
       "      <td>0.131963</td>\n",
       "      <td>0.070028</td>\n",
       "      <td>0.088712</td>\n",
       "      <td>1.000000</td>\n",
       "      <td>-0.006104</td>\n",
       "      <td>0.057365</td>\n",
       "      <td>-0.055647</td>\n",
       "      <td>-0.012620</td>\n",
       "    </tr>\n",
       "    <tr>\n",
       "      <th>renewal_cnt_0</th>\n",
       "      <td>-0.094190</td>\n",
       "      <td>-0.063010</td>\n",
       "      <td>0.096618</td>\n",
       "      <td>0.020865</td>\n",
       "      <td>-0.006104</td>\n",
       "      <td>1.000000</td>\n",
       "      <td>-0.458005</td>\n",
       "      <td>-0.259608</td>\n",
       "      <td>-0.034701</td>\n",
       "    </tr>\n",
       "    <tr>\n",
       "      <th>renewal_cnt_1</th>\n",
       "      <td>-0.181178</td>\n",
       "      <td>-0.018528</td>\n",
       "      <td>0.209490</td>\n",
       "      <td>0.008214</td>\n",
       "      <td>0.057365</td>\n",
       "      <td>-0.458005</td>\n",
       "      <td>1.000000</td>\n",
       "      <td>-0.723583</td>\n",
       "      <td>-0.096719</td>\n",
       "    </tr>\n",
       "    <tr>\n",
       "      <th>renewal_cnt_2</th>\n",
       "      <td>0.251812</td>\n",
       "      <td>0.069252</td>\n",
       "      <td>-0.289337</td>\n",
       "      <td>-0.024737</td>\n",
       "      <td>-0.055647</td>\n",
       "      <td>-0.259608</td>\n",
       "      <td>-0.723583</td>\n",
       "      <td>1.000000</td>\n",
       "      <td>-0.054823</td>\n",
       "    </tr>\n",
       "    <tr>\n",
       "      <th>renewal_cnt_3</th>\n",
       "      <td>0.098250</td>\n",
       "      <td>-0.003752</td>\n",
       "      <td>-0.072998</td>\n",
       "      <td>-0.001249</td>\n",
       "      <td>-0.012620</td>\n",
       "      <td>-0.034701</td>\n",
       "      <td>-0.096719</td>\n",
       "      <td>-0.054823</td>\n",
       "      <td>1.000000</td>\n",
       "    </tr>\n",
       "  </tbody>\n",
       "</table>\n",
       "</div>"
      ],
      "text/plain": [
       "                 ncites  num_claims  iss_duration  Num_Inventor  num_bcit  \\\n",
       "ncites         1.000000    0.147792     -0.092116      0.035284  0.088574   \n",
       "num_claims     0.147792    1.000000      0.089719      0.032995  0.131963   \n",
       "iss_duration  -0.092116    0.089719      1.000000      0.018917  0.070028   \n",
       "Num_Inventor   0.035284    0.032995      0.018917      1.000000  0.088712   \n",
       "num_bcit       0.088574    0.131963      0.070028      0.088712  1.000000   \n",
       "renewal_cnt_0 -0.094190   -0.063010      0.096618      0.020865 -0.006104   \n",
       "renewal_cnt_1 -0.181178   -0.018528      0.209490      0.008214  0.057365   \n",
       "renewal_cnt_2  0.251812    0.069252     -0.289337     -0.024737 -0.055647   \n",
       "renewal_cnt_3  0.098250   -0.003752     -0.072998     -0.001249 -0.012620   \n",
       "\n",
       "               renewal_cnt_0  renewal_cnt_1  renewal_cnt_2  renewal_cnt_3  \n",
       "ncites             -0.094190      -0.181178       0.251812       0.098250  \n",
       "num_claims         -0.063010      -0.018528       0.069252      -0.003752  \n",
       "iss_duration        0.096618       0.209490      -0.289337      -0.072998  \n",
       "Num_Inventor        0.020865       0.008214      -0.024737      -0.001249  \n",
       "num_bcit           -0.006104       0.057365      -0.055647      -0.012620  \n",
       "renewal_cnt_0       1.000000      -0.458005      -0.259608      -0.034701  \n",
       "renewal_cnt_1      -0.458005       1.000000      -0.723583      -0.096719  \n",
       "renewal_cnt_2      -0.259608      -0.723583       1.000000      -0.054823  \n",
       "renewal_cnt_3      -0.034701      -0.096719      -0.054823       1.000000  "
      ]
     },
     "execution_count": 74,
     "metadata": {},
     "output_type": "execute_result"
    }
   ],
   "source": [
    "data.corr()"
   ]
  },
  {
   "cell_type": "code",
   "execution_count": null,
   "metadata": {
    "collapsed": true
   },
   "outputs": [],
   "source": []
  },
  {
   "cell_type": "code",
   "execution_count": 20,
   "metadata": {
    "collapsed": false
   },
   "outputs": [
    {
     "name": "stdout",
     "output_type": "stream",
     "text": [
      "Num_Inventor_29.0\n",
      "Num_Inventor_30.0\n",
      "Num_Inventor_33.0\n",
      "Num_Inventor_60.0\n",
      "Num_Inventor_76.0\n"
     ]
    }
   ],
   "source": [
    "#for columns in data:\n",
    " #   if (data[columns].sum() <=1):\n",
    "       #      del data[columns]\n",
    "           #     print columns"
   ]
  },
  {
   "cell_type": "code",
   "execution_count": null,
   "metadata": {
    "collapsed": false
   },
   "outputs": [],
   "source": []
  },
  {
   "cell_type": "code",
   "execution_count": 58,
   "metadata": {
    "collapsed": false
   },
   "outputs": [
    {
     "data": {
      "text/plain": [
       "<matplotlib.collections.PathCollection at 0x18289710>"
      ]
     },
     "execution_count": 58,
     "metadata": {},
     "output_type": "execute_result"
    },
    {
     "data": {
      "image/png": "[encoded data removed]",
      "text/plain": [
       "<matplotlib.figure.Figure at 0xe134710>"
      ]
     },
     "metadata": {},
     "output_type": "display_data"
    }
   ],
   "source": [
    "plt.scatter(data['ncites'],(target))"
   ]
  },
  {
   "cell_type": "code",
   "execution_count": 10,
   "metadata": {
    "collapsed": false
   },
   "outputs": [
    {
     "data": {
      "text/plain": [
       "<matplotlib.collections.PathCollection at 0xa332668>"
      ]
     },
     "execution_count": 10,
     "metadata": {},
     "output_type": "execute_result"
    },
    {
     "data": {
      "image/png": "[encoded data removed]",
      "text/plain": [
       "<matplotlib.figure.Figure at 0xa1f6358>"
      ]
     },
     "metadata": {},
     "output_type": "display_data"
    }
   ],
   "source": [
    "plt.scatter(data['renewal_cnt'],target)"
   ]
  },
  {
   "cell_type": "code",
   "execution_count": 11,
   "metadata": {
    "collapsed": false
   },
   "outputs": [
    {
     "data": {
      "text/plain": [
       "<matplotlib.collections.PathCollection at 0xa588c18>"
      ]
     },
     "execution_count": 11,
     "metadata": {},
     "output_type": "execute_result"
    },
    {
     "data": {
      "image/png": "[encoded data removed]",
      "text/plain": [
       "<matplotlib.figure.Figure at 0xa4d40f0>"
      ]
     },
     "metadata": {},
     "output_type": "display_data"
    }
   ],
   "source": [
    "plt.scatter(data['num_claims'],target)"
   ]
  },
  {
   "cell_type": "code",
   "execution_count": 12,
   "metadata": {
    "collapsed": false
   },
   "outputs": [
    {
     "data": {
      "text/plain": [
       "<matplotlib.collections.PathCollection at 0x9b391d0>"
      ]
     },
     "execution_count": 12,
     "metadata": {},
     "output_type": "execute_result"
    },
    {
     "data": {
      "image/png": "[encoded data removed]",
      "text/plain": [
       "<matplotlib.figure.Figure at 0xa5ad6d8>"
      ]
     },
     "metadata": {},
     "output_type": "display_data"
    }
   ],
   "source": [
    "plt.scatter(data['iss_duration'],target)"
   ]
  },
  {
   "cell_type": "code",
   "execution_count": 13,
   "metadata": {
    "collapsed": false
   },
   "outputs": [
    {
     "data": {
      "text/plain": [
       "<matplotlib.collections.PathCollection at 0x9ec4518>"
      ]
     },
     "execution_count": 13,
     "metadata": {},
     "output_type": "execute_result"
    },
    {
     "data": {
      "image/png": "[encoded data removed]",
      "text/plain": [
       "<matplotlib.figure.Figure at 0x9b4a630>"
      ]
     },
     "metadata": {},
     "output_type": "display_data"
    }
   ],
   "source": [
    "plt.scatter(data['age'],target)"
   ]
  },
  {
   "cell_type": "code",
   "execution_count": 14,
   "metadata": {
    "collapsed": false
   },
   "outputs": [
    {
     "data": {
      "text/plain": [
       "<matplotlib.collections.PathCollection at 0xa012860>"
      ]
     },
     "execution_count": 14,
     "metadata": {},
     "output_type": "execute_result"
    },
    {
     "data": {
      "image/png": "[encoded data removed]",
      "text/plain": [
       "<matplotlib.figure.Figure at 0x9be59e8>"
      ]
     },
     "metadata": {},
     "output_type": "display_data"
    }
   ],
   "source": [
    "plt.scatter(data['Num_Inventor'],target)"
   ]
  },
  {
   "cell_type": "code",
   "execution_count": 15,
   "metadata": {
    "collapsed": false
   },
   "outputs": [
    {
     "data": {
      "text/plain": [
       "<matplotlib.collections.PathCollection at 0xe4482b0>"
      ]
     },
     "execution_count": 15,
     "metadata": {},
     "output_type": "execute_result"
    },
    {
     "data": {
      "image/png": "[encoded data removed]",
      "text/plain": [
       "<matplotlib.figure.Figure at 0xa05a7f0>"
      ]
     },
     "metadata": {},
     "output_type": "display_data"
    }
   ],
   "source": [
    "plt.scatter(data['num_bcit'],target)"
   ]
  },
  {
   "cell_type": "code",
   "execution_count": 7,
   "metadata": {
    "collapsed": false
   },
   "outputs": [],
   "source": [
    "from sklearn.preprocessing import StandardScaler, PolynomialFeatures, RobustScaler, normalize\n",
    "from sklearn.linear_model import LinearRegression, Ridge, Lasso, RidgeCV\n",
    "from sklearn.neighbors import KNeighborsRegressor\n",
    "from sklearn.kernel_ridge import KernelRidge\n",
    "from sklearn.svm import SVR\n",
    "from sklearn.pipeline import make_pipeline\n",
    "from sklearn.model_selection import GridSearchCV\n",
    "from sklearn.model_selection import train_test_split"
   ]
  },
  {
   "cell_type": "code",
   "execution_count": 96,
   "metadata": {
    "collapsed": false
   },
   "outputs": [],
   "source": [
    "data_train, data_test, y_train, y_test = train_test_split(data, target, test_size=0.30)"
   ]
  },
  {
   "cell_type": "code",
   "execution_count": 78,
   "metadata": {
    "collapsed": false
   },
   "outputs": [],
   "source": [
    "pipeline1 = make_pipeline(RobustScaler(), PolynomialFeatures(), Ridge())\n",
    "pipeline2 = make_pipeline(RobustScaler(), PolynomialFeatures(), Ridge())\n",
    "pipeline3 = make_pipeline(StandardScaler(), PolynomialFeatures(), LinearRegression())\n",
    "pipeline4 = make_pipeline(RobustScaler(), PolynomialFeatures(), LinearRegression())\n",
    "pipeline5 = make_pipeline(StandardScaler(), PolynomialFeatures(), KNeighborsRegressor())\n",
    "pipeline6 = make_pipeline(RobustScaler(), PolynomialFeatures(), KNeighborsRegressor())\n",
    "pipeline7 = make_pipeline(StandardScaler(), PolynomialFeatures(), Lasso())\n",
    "pipeline8 = make_pipeline(RobustScaler(), PolynomialFeatures(), Lasso())\n",
    "pipeline9 = make_pipeline(StandardScaler(), KernelRidge())\n",
    "pipeline9 = make_pipeline(RobustScaler(), KernelRidge())\n",
    "pipeline10 = make_pipeline(StandardScaler(), SVR())\n",
    "pipeline11 = make_pipeline(RobustScaler(), SVR())"
   ]
  },
  {
   "cell_type": "code",
   "execution_count": 85,
   "metadata": {
    "collapsed": false
   },
   "outputs": [],
   "source": [
    "Rdg = RidgeCV(alphas=(0.1, 1.0, 1000.0), fit_intercept=True, normalize=True, scoring=None, cv=None, gcv_mode=None, \n",
    "              store_cv_values=False)\n",
    "model = Rdg.fit(data_train,y_train)"
   ]
  },
  {
   "cell_type": "code",
   "execution_count": 86,
   "metadata": {
    "collapsed": false
   },
   "outputs": [
    {
     "data": {
      "text/plain": [
       "array([  3.07538969e-02,   1.08711192e-01,   8.44232603e-05,\n",
       "         6.88948512e-01,   1.81028807e-02,  -5.32510061e-01,\n",
       "         5.40639172e-01,  -5.54553547e-01,   6.26513631e+00])"
      ]
     },
     "execution_count": 86,
     "metadata": {},
     "output_type": "execute_result"
    }
   ],
   "source": [
    "model.coef_"
   ]
  },
  {
   "cell_type": "code",
   "execution_count": 87,
   "metadata": {
    "collapsed": false
   },
   "outputs": [
    {
     "data": {
      "text/plain": [
       "(231417L, 1L)"
      ]
     },
     "execution_count": 87,
     "metadata": {},
     "output_type": "execute_result"
    }
   ],
   "source": [
    "y_train_pred = model.predict(data_train)\n",
    "y_train_pred.reshape(-1,1).shape"
   ]
  },
  {
   "cell_type": "code",
   "execution_count": 88,
   "metadata": {
    "collapsed": false
   },
   "outputs": [
    {
     "data": {
      "text/plain": [
       "(231417L, 1L)"
      ]
     },
     "execution_count": 88,
     "metadata": {},
     "output_type": "execute_result"
    }
   ],
   "source": [
    "y_train.reshape(-1,1).shape"
   ]
  },
  {
   "cell_type": "code",
   "execution_count": 89,
   "metadata": {
    "collapsed": false
   },
   "outputs": [
    {
     "data": {
      "text/plain": [
       "0.0100400789838061"
      ]
     },
     "execution_count": 89,
     "metadata": {},
     "output_type": "execute_result"
    }
   ],
   "source": [
    "model.score(data_train, y_train)"
   ]
  },
  {
   "cell_type": "code",
   "execution_count": 90,
   "metadata": {
    "collapsed": false
   },
   "outputs": [
    {
     "data": {
      "text/plain": [
       "0.0094348495619247519"
      ]
     },
     "execution_count": 90,
     "metadata": {},
     "output_type": "execute_result"
    }
   ],
   "source": [
    "model.score(data_test, y_test)"
   ]
  },
  {
   "cell_type": "code",
   "execution_count": 91,
   "metadata": {
    "collapsed": false
   },
   "outputs": [
    {
     "name": "stdout",
     "output_type": "stream",
     "text": [
      "('best parameters:', {'ridge__alpha': 100.0, 'polynomialfeatures__degree': 2})\n",
      "('best score:', 0.011872400631113679)\n",
      "('test score:', 0.011719179375715649)\n"
     ]
    }
   ],
   "source": [
    "grid1 = GridSearchCV(pipeline1, param_grid={'polynomialfeatures__degree': [2, 3],'ridge__alpha':[100.0, 1000.0]}, cv=10)\n",
    "grid1.fit(data_train,y_train)\n",
    "print('best parameters:', grid1.best_params_)\n",
    "print('best score:', grid1.best_score_)\n",
    "print('test score:', grid1.score(data_test, y_test))"
   ]
  },
  {
   "cell_type": "code",
   "execution_count": 119,
   "metadata": {
    "collapsed": true
   },
   "outputs": [],
   "source": [
    "knr = KNeighborsRegressor(n_neighbors=20, weights='distance', algorithm='auto', leaf_size=30, p=2, metric='minkowski')\n",
    "model_n = knr.fit(data_train, y_train)"
   ]
  },
  {
   "cell_type": "code",
   "execution_count": 120,
   "metadata": {
    "collapsed": false
   },
   "outputs": [
    {
     "data": {
      "text/plain": [
       "0.99765588472081457"
      ]
     },
     "execution_count": 120,
     "metadata": {},
     "output_type": "execute_result"
    }
   ],
   "source": [
    "model_n.score(data_train,y_train)"
   ]
  },
  {
   "cell_type": "code",
   "execution_count": 121,
   "metadata": {
    "collapsed": false
   },
   "outputs": [
    {
     "data": {
      "text/plain": [
       "-0.039249575378659696"
      ]
     },
     "execution_count": 121,
     "metadata": {},
     "output_type": "execute_result"
    }
   ],
   "source": [
    "model_n.score(data_test,y_test)"
   ]
  },
  {
   "cell_type": "code",
   "execution_count": 56,
   "metadata": {
    "collapsed": false
   },
   "outputs": [],
   "source": [
    "data_train, data_test, y_train, y_test = train_test_split(data, target, test_size=0.30)"
   ]
  },
  {
   "cell_type": "code",
   "execution_count": 26,
   "metadata": {
    "collapsed": false
   },
   "outputs": [
    {
     "name": "stdout",
     "output_type": "stream",
     "text": [
      "0.998968175964\n",
      "-0.993917495413\n"
     ]
    }
   ],
   "source": [
    "from sklearn.tree import DecisionTreeRegressor\n",
    "data_train_trans = StandardScaler().fit_transform(data_train)\n",
    "data_test_trans = StandardScaler().fit_transform(data_test)\n",
    "dtr = DecisionTreeRegressor(criterion='mse', splitter='best', max_depth=None, min_samples_split=2, min_samples_leaf=1, \n",
    "                            min_weight_fraction_leaf=0.0, max_features='sqrt', random_state=None, max_leaf_nodes=None, \n",
    "                            min_impurity_split=1e-07, presort=False)\n",
    "model_tree = dtr.fit(data_train_trans,y_train)\n",
    "print(model_tree.score(data_train_trans,y_train))\n",
    "print(model_tree.score(data_test_trans,y_test))"
   ]
  },
  {
   "cell_type": "code",
   "execution_count": 22,
   "metadata": {
    "collapsed": false
   },
   "outputs": [
    {
     "name": "stdout",
     "output_type": "stream",
     "text": [
      "('best parameters:', {'decisiontreeregressor__max_features': 'sqrt'})\n",
      "('best score:', -1.0236916546071599)\n",
      "('test score:', -1.1730979408428102)\n"
     ]
    }
   ],
   "source": [
    "pipeline_tree = make_pipeline(RobustScaler(),DecisionTreeRegressor())\n",
    "grid_tree = GridSearchCV(pipeline_tree, param_grid={'decisiontreeregressor__max_features':['auto', 'sqrt']}, cv=10)\n",
    "grid_tree.fit(data_train,y_train)\n",
    "print('best parameters:', grid_tree.best_params_)\n",
    "print('best score:', grid_tree.best_score_)\n",
    "print('test score:', grid_tree.score(data_test, y_test))"
   ]
  },
  {
   "cell_type": "code",
   "execution_count": 127,
   "metadata": {
    "collapsed": false
   },
   "outputs": [
    {
     "name": "stdout",
     "output_type": "stream",
     "text": [
      "('best parameters:', {'kneighborsregressor__n_neighbors': 20})\n",
      "('best score:', -0.036456432830682298)\n",
      "('test score:', -0.036358205618815864)\n"
     ]
    }
   ],
   "source": [
    "pipeline_opt = make_pipeline(KNeighborsRegressor(weights ='distance'))\n",
    "grid_opt = GridSearchCV(pipeline_opt, param_grid={'kneighborsregressor__n_neighbors':[10, 20]}, cv=10)\n",
    "grid_opt.fit(data_train,y_train)\n",
    "print('best parameters:', grid_opt.best_params_)\n",
    "print('best score:', grid_opt.best_score_)\n",
    "print('test score:', grid_opt.score(data_test, y_test))"
   ]
  },
  {
   "cell_type": "code",
   "execution_count": 58,
   "metadata": {
    "collapsed": false
   },
   "outputs": [
    {
     "data": {
      "text/html": [
       "<div>\n",
       "<table border=\"1\" class=\"dataframe\">\n",
       "  <thead>\n",
       "    <tr style=\"text-align: right;\">\n",
       "      <th></th>\n",
       "      <th>ncites</th>\n",
       "      <th>renewal_cnt</th>\n",
       "      <th>num_claims</th>\n",
       "      <th>iss_duration</th>\n",
       "      <th>age</th>\n",
       "      <th>Num_Inventor</th>\n",
       "      <th>num_bcit</th>\n",
       "    </tr>\n",
       "    <tr>\n",
       "      <th>patnum</th>\n",
       "      <th></th>\n",
       "      <th></th>\n",
       "      <th></th>\n",
       "      <th></th>\n",
       "      <th></th>\n",
       "      <th></th>\n",
       "      <th></th>\n",
       "    </tr>\n",
       "  </thead>\n",
       "  <tbody>\n",
       "    <tr>\n",
       "      <th>6208775</th>\n",
       "      <td>0</td>\n",
       "      <td>0</td>\n",
       "      <td>6</td>\n",
       "      <td>644</td>\n",
       "      <td>3793</td>\n",
       "      <td>1.0</td>\n",
       "      <td>3.0</td>\n",
       "    </tr>\n",
       "    <tr>\n",
       "      <th>6232247</th>\n",
       "      <td>8</td>\n",
       "      <td>3</td>\n",
       "      <td>34</td>\n",
       "      <td>589</td>\n",
       "      <td>3744</td>\n",
       "      <td>2.0</td>\n",
       "      <td>7.0</td>\n",
       "    </tr>\n",
       "    <tr>\n",
       "      <th>6234712</th>\n",
       "      <td>3</td>\n",
       "      <td>3</td>\n",
       "      <td>27</td>\n",
       "      <td>535</td>\n",
       "      <td>3737</td>\n",
       "      <td>4.0</td>\n",
       "      <td>3.0</td>\n",
       "    </tr>\n",
       "    <tr>\n",
       "      <th>6245142</th>\n",
       "      <td>65</td>\n",
       "      <td>3</td>\n",
       "      <td>12</td>\n",
       "      <td>882</td>\n",
       "      <td>3716</td>\n",
       "      <td>5.0</td>\n",
       "      <td>42.0</td>\n",
       "    </tr>\n",
       "    <tr>\n",
       "      <th>6256247</th>\n",
       "      <td>77</td>\n",
       "      <td>3</td>\n",
       "      <td>22</td>\n",
       "      <td>196</td>\n",
       "      <td>3695</td>\n",
       "      <td>1.0</td>\n",
       "      <td>4.0</td>\n",
       "    </tr>\n",
       "  </tbody>\n",
       "</table>\n",
       "</div>"
      ],
      "text/plain": [
       "         ncites  renewal_cnt  num_claims  iss_duration   age  Num_Inventor  \\\n",
       "patnum                                                                       \n",
       "6208775       0            0           6           644  3793           1.0   \n",
       "6232247       8            3          34           589  3744           2.0   \n",
       "6234712       3            3          27           535  3737           4.0   \n",
       "6245142      65            3          12           882  3716           5.0   \n",
       "6256247      77            3          22           196  3695           1.0   \n",
       "\n",
       "         num_bcit  \n",
       "patnum             \n",
       "6208775       3.0  \n",
       "6232247       7.0  \n",
       "6234712       3.0  \n",
       "6245142      42.0  \n",
       "6256247       4.0  "
      ]
     },
     "execution_count": 58,
     "metadata": {},
     "output_type": "execute_result"
    }
   ],
   "source": [
    "data.head()"
   ]
  },
  {
   "cell_type": "code",
   "execution_count": 11,
   "metadata": {
    "collapsed": false
   },
   "outputs": [
    {
     "name": "stdout",
     "output_type": "stream",
     "text": [
      "           ncites  renewal_cnt  num_claims  iss_duration       age  \\\n",
      "patnum                                                               \n",
      "6208775 -0.412252    -1.767088   -0.931569     -0.964389  2.642039   \n",
      "6232247  0.581523     2.786208    1.180004     -1.070641  2.582821   \n",
      "6234712 -0.039586     2.786208    0.652111     -1.174961  2.574362   \n",
      "6245142  7.662170     2.786208   -0.479089     -0.504608  2.548983   \n",
      "6256247  9.152833     2.786208    0.275044     -1.829860  2.523603   \n",
      "\n",
      "         Num_Inventor  num_bcit  \n",
      "patnum                           \n",
      "6208775     -0.935802 -0.442136  \n",
      "6232247     -0.419966 -0.355131  \n",
      "6234712      0.611707 -0.442136  \n",
      "6245142      1.127543  0.406163  \n",
      "6256247     -0.935802 -0.420385  \n"
     ]
    }
   ],
   "source": [
    "for columns in data:\n",
    "    data[columns] = ((data[columns] - data[columns].mean())/data[columns].std())\n",
    "print data.head()"
   ]
  },
  {
   "cell_type": "code",
   "execution_count": 28,
   "metadata": {
    "collapsed": true
   },
   "outputs": [],
   "source": [
    "data = pd.DataFrame(data)"
   ]
  },
  {
   "cell_type": "code",
   "execution_count": 33,
   "metadata": {
    "collapsed": false
   },
   "outputs": [],
   "source": [
    "del data['renewal_cnt']"
   ]
  },
  {
   "cell_type": "code",
   "execution_count": 53,
   "metadata": {
    "collapsed": false
   },
   "outputs": [],
   "source": [
    "data_train, data_test, y_train, y_test = train_test_split(data, target, test_size=0.30)"
   ]
  },
  {
   "cell_type": "code",
   "execution_count": 39,
   "metadata": {
    "collapsed": false
   },
   "outputs": [
    {
     "name": "stdout",
     "output_type": "stream",
     "text": [
      "('best parameters:', {'decisiontreeregressor__max_features': 'sqrt'})\n",
      "('best score:', -1.0737706214201006)\n",
      "('test score:', -1.0286213929853427)\n"
     ]
    }
   ],
   "source": [
    "pipeline_tree_2 = make_pipeline(DecisionTreeRegressor())\n",
    "grid_tree_2 = GridSearchCV(pipeline_tree_2, param_grid={'decisiontreeregressor__max_features':['auto', 'sqrt']}, cv=10)\n",
    "grid_tree_2.fit(data_train,y_train)\n",
    "print('best parameters:', grid_tree_2.best_params_)\n",
    "print('best score:', grid_tree_2.best_score_)\n",
    "print('test score:', grid_tree_2.score(data_test, y_test))"
   ]
  },
  {
   "cell_type": "code",
   "execution_count": 43,
   "metadata": {
    "collapsed": false
   },
   "outputs": [
    {
     "name": "stdout",
     "output_type": "stream",
     "text": [
      "('best parameters:', {'kneighborsregressor__n_neighbors': 20})\n",
      "('best score:', -0.050034167858289721)\n",
      "('test score:', -0.057178444199390333)\n"
     ]
    }
   ],
   "source": [
    "pipeline_tree_3 = make_pipeline(KNeighborsRegressor(weights ='distance'))\n",
    "grid_tree_3 = GridSearchCV(pipeline_tree_3, param_grid={'kneighborsregressor__n_neighbors':[10, 20]}, cv=10)\n",
    "grid_tree_3.fit(data_train,y_train)\n",
    "print('best parameters:', grid_tree_3.best_params_)\n",
    "print('best score:', grid_tree_3.best_score_)\n",
    "print('test score:', grid_tree_3.score(data_test, y_test))"
   ]
  },
  {
   "cell_type": "code",
   "execution_count": 57,
   "metadata": {
    "collapsed": false
   },
   "outputs": [
    {
     "name": "stdout",
     "output_type": "stream",
     "text": [
      "('best parameters:', {'ridge__alpha': 1000.0, 'polynomialfeatures__degree': 3})\n",
      "('best score:', 0.011387932216700062)\n",
      "('test score:', 0.010984555030593257)\n"
     ]
    }
   ],
   "source": [
    "pipeline_4 = make_pipeline(RobustScaler(),PolynomialFeatures(),Ridge())\n",
    "grid_ridge = GridSearchCV(pipeline_4, param_grid={'polynomialfeatures__degree': [2, 3],'ridge__alpha':[100.0, 1000.0]}, cv=10)\n",
    "grid_ridge.fit(data_train,y_train)\n",
    "print('best parameters:', grid_ridge.best_params_)\n",
    "print('best score:', grid_ridge.best_score_)\n",
    "print('test score:', grid_ridge.score(data_test, y_test))"
   ]
  },
  {
   "cell_type": "code",
   "execution_count": 65,
   "metadata": {
    "collapsed": true
   },
   "outputs": [],
   "source": [
    "for columns in data:\n",
    "    data[columns] = ((data[columns] - data[columns].mean())/data[columns].std())\n",
    "data = pd.DataFrame(data)"
   ]
  },
  {
   "cell_type": "code",
   "execution_count": 81,
   "metadata": {
    "collapsed": false
   },
   "outputs": [],
   "source": []
  },
  {
   "cell_type": "code",
   "execution_count": 59,
   "metadata": {
    "collapsed": false
   },
   "outputs": [],
   "source": [
    "target = np.log(target)"
   ]
  },
  {
   "cell_type": "code",
   "execution_count": 60,
   "metadata": {
    "collapsed": true
   },
   "outputs": [],
   "source": [
    "data_train, data_test, y_train, y_test = train_test_split(data, target, test_size=0.30)"
   ]
  },
  {
   "cell_type": "code",
   "execution_count": 61,
   "metadata": {
    "collapsed": false
   },
   "outputs": [
    {
     "name": "stdout",
     "output_type": "stream",
     "text": [
      "0.0475521247679\n",
      "0.0444226382813\n"
     ]
    }
   ],
   "source": [
    "from sklearn.linear_model import ElasticNetCV\n",
    "rs = RobustScaler(quantile_range=(25.0, 75.0))\n",
    "data_train_trans = rs.fit_transform(data_train)\n",
    "data_test_trans = rs.transform(data_test)\n",
    "ev = ElasticNetCV(l1_ratio=0.1,eps=0.001, n_alphas=100, alphas=None, fit_intercept=True, normalize=False, \n",
    "                  precompute='auto', max_iter=1000, tol=0.0001, cv=10, copy_X=True, verbose=0, n_jobs=1, \n",
    "                  positive=False, random_state=None, selection='cyclic')\n",
    "model_ev = ev.fit(data_train_trans,y_train)\n",
    "print(model_ev.score(data_train_trans, y_train))\n",
    "print(model_ev.score(data_test_trans, y_test))"
   ]
  },
  {
   "cell_type": "code",
   "execution_count": 62,
   "metadata": {
    "collapsed": false
   },
   "outputs": [
    {
     "name": "stdout",
     "output_type": "stream",
     "text": [
      "[ 0.0399093  -0.00239855  0.38125453  0.07253242 -0.14347564  0.15510207\n",
      "  0.0517768 ]\n",
      "0.204041157465\n"
     ]
    }
   ],
   "source": [
    "print (model_ev.coef_)\n",
    "print (model_ev.intercept_)"
   ]
  },
  {
   "cell_type": "code",
   "execution_count": 63,
   "metadata": {
    "collapsed": true
   },
   "outputs": [],
   "source": [
    "pred_xi = np.exp(model_ev.predict(rs.transform(data)))\n",
    "target = np.exp(target)"
   ]
  },
  {
   "cell_type": "code",
   "execution_count": 168,
   "metadata": {
    "collapsed": false
   },
   "outputs": [
    {
     "data": {
      "text/plain": [
       "<matplotlib.text.Text at 0x671415f8>"
      ]
     },
     "execution_count": 168,
     "metadata": {},
     "output_type": "execute_result"
    },
    {
     "data": {
      "image/png": "[encoded data removed]",
      "text/plain": [
       "<matplotlib.figure.Figure at 0x67f360f0>"
      ]
     },
     "metadata": {},
     "output_type": "display_data"
    }
   ],
   "source": [
    "plt.plot(pred_xi)\n",
    "axes = plt.gca()\n",
    "axes.set_ylim([0,1600])\n",
    "plt.ylabel('Predicted Patent Value-Our Model')\n",
    "plt.xlabel('Patent Number')"
   ]
  },
  {
   "cell_type": "code",
   "execution_count": 166,
   "metadata": {
    "collapsed": false
   },
   "outputs": [
    {
     "data": {
      "text/plain": [
       "<matplotlib.text.Text at 0x689ffa20>"
      ]
     },
     "execution_count": 166,
     "metadata": {},
     "output_type": "execute_result"
    },
    {
     "data": {
      "image/png": "[encoded data removed]",
      "text/plain": [
       "<matplotlib.figure.Figure at 0x68849e10>"
      ]
     },
     "metadata": {},
     "output_type": "display_data"
    }
   ],
   "source": [
    "plt.plot(target)\n",
    "axes_new = plt.gca()\n",
    "axes_new.set_ylim([0,1600])\n",
    "plt.ylabel('Predicted Patent Value-KPSS Model')\n",
    "plt.xlabel('Patent Number')"
   ]
  },
  {
   "cell_type": "code",
   "execution_count": 184,
   "metadata": {
    "collapsed": false
   },
   "outputs": [
    {
     "data": {
      "text/plain": [
       "<matplotlib.legend.Legend at 0x1f9f32e8>"
      ]
     },
     "execution_count": 184,
     "metadata": {},
     "output_type": "execute_result"
    },
    {
     "data": {
      "image/png": "[encoded data removed]",
      "text/plain": [
       "<matplotlib.figure.Figure at 0x9b167f0>"
      ]
     },
     "metadata": {},
     "output_type": "display_data"
    }
   ],
   "source": [
    "x = [103598,224918, 304635]\n",
    "y1 = [target[103598],target[224918],target[304635]]\n",
    "y2 = [pred_xi[103598],pred_xi[224918],pred_xi[304635]]\n",
    "y3 = [375, 368, 65]\n",
    "plt.scatter(x, y1, c='red', s = 75,label = 'KPSS Model Prediction' )\n",
    "plt.scatter(x, y2,c='green', s= 75,label = 'Our Model Prediction')\n",
    "plt.scatter(x, y3, c = 'blue', s= 100,label = 'SEC Value')\n",
    "plt.ylabel('Predicted Patent Values by Model')\n",
    "plt.xlabel('Patent Number')\n",
    "plt.legend(loc='best')"
   ]
  },
  {
   "cell_type": "code",
   "execution_count": 194,
   "metadata": {
    "collapsed": false
   },
   "outputs": [
    {
     "data": {
      "text/plain": [
       "<matplotlib.text.Text at 0x68fa4828>"
      ]
     },
     "execution_count": 194,
     "metadata": {},
     "output_type": "execute_result"
    },
    {
     "data": {
      "image/png": "[encoded data removed]",
      "text/plain": [
       "<matplotlib.figure.Figure at 0x3d1f7470>"
      ]
     },
     "metadata": {},
     "output_type": "display_data"
    }
   ],
   "source": [
    "plt.scatter(x[0], y1[0], c='red', s = 75,label = 'KPSS Model Prediction' )\n",
    "plt.scatter(x[1], y1[1], c='red', s = 75,label = 'KPSS Model Prediction' )\n",
    "plt.scatter(x[2], y1[2], c='red', s = 75,label = 'KPSS Model Prediction' )\n",
    "plt.ylabel('Predicted Patent Value-KPSS Model')\n",
    "plt.xlabel('Patent Number')"
   ]
  },
  {
   "cell_type": "code",
   "execution_count": 193,
   "metadata": {
    "collapsed": false
   },
   "outputs": [
    {
     "data": {
      "text/plain": [
       "<matplotlib.text.Text at 0x2f5fbc88>"
      ]
     },
     "execution_count": 193,
     "metadata": {},
     "output_type": "execute_result"
    },
    {
     "data": {
      "image/png": "[encoded data removed]",
      "text/plain": [
       "<matplotlib.figure.Figure at 0x618cf8d0>"
      ]
     },
     "metadata": {},
     "output_type": "display_data"
    }
   ],
   "source": [
    "plt.scatter(x[0], y2[0], c='green', s = 75,label = 'KPSS Model Prediction' )\n",
    "plt.scatter(x[1], y2[1], c='green', s = 75,label = 'KPSS Model Prediction' )\n",
    "plt.scatter(x[2], y2[2], c='green', s = 75,label = 'KPSS Model Prediction' )\n",
    "plt.ylabel('Predicted Patent Value-Our Model')\n",
    "plt.xlabel('Patent Number')"
   ]
  },
  {
   "cell_type": "code",
   "execution_count": 195,
   "metadata": {
    "collapsed": false
   },
   "outputs": [
    {
     "data": {
      "text/plain": [
       "<matplotlib.text.Text at 0x333c41d0>"
      ]
     },
     "execution_count": 195,
     "metadata": {},
     "output_type": "execute_result"
    },
    {
     "data": {
      "image/png": "[encoded data removed]",
      "text/plain": [
       "<matplotlib.figure.Figure at 0x4cedfa58>"
      ]
     },
     "metadata": {},
     "output_type": "display_data"
    }
   ],
   "source": [
    "plt.scatter(x[0], y3[0], c='blue', s = 75,label = 'KPSS Model Prediction' )\n",
    "plt.scatter(x[1], y3[1], c='blue', s = 75,label = 'KPSS Model Prediction' )\n",
    "plt.scatter(x[2], y3[2], c='blue', s = 75,label = 'KPSS Model Prediction' )\n",
    "plt.ylabel('Patent Value-SEC Value')\n",
    "plt.xlabel('Patent Number')"
   ]
  },
  {
   "cell_type": "code",
   "execution_count": 182,
   "metadata": {
    "collapsed": false
   },
   "outputs": [
    {
     "data": {
      "text/plain": [
       "0.20150881999999998"
      ]
     },
     "execution_count": 182,
     "metadata": {},
     "output_type": "execute_result"
    }
   ],
   "source": [
    "target[103598]"
   ]
  },
  {
   "cell_type": "code",
   "execution_count": 183,
   "metadata": {
    "collapsed": false
   },
   "outputs": [
    {
     "data": {
      "text/plain": [
       "2.2394709402065014"
      ]
     },
     "execution_count": 183,
     "metadata": {},
     "output_type": "execute_result"
    }
   ],
   "source": [
    "pred_xi[103598]"
   ]
  },
  {
   "cell_type": "code",
   "execution_count": 72,
   "metadata": {
    "collapsed": false
   },
   "outputs": [],
   "source": [
    "patnum = data.index.tolist()"
   ]
  },
  {
   "cell_type": "code",
   "execution_count": 103,
   "metadata": {
    "collapsed": false
   },
   "outputs": [
    {
     "data": {
      "text/plain": [
       "6208775"
      ]
     },
     "execution_count": 103,
     "metadata": {},
     "output_type": "execute_result"
    }
   ],
   "source": [
    "patnum[0]"
   ]
  },
  {
   "cell_type": "code",
   "execution_count": 175,
   "metadata": {
    "collapsed": false
   },
   "outputs": [
    {
     "data": {
      "text/plain": [
       "304635"
      ]
     },
     "execution_count": 175,
     "metadata": {},
     "output_type": "execute_result"
    }
   ],
   "source": [
    "patnum.index(7718629)"
   ]
  },
  {
   "cell_type": "code",
   "execution_count": 146,
   "metadata": {
    "collapsed": false
   },
   "outputs": [
    {
     "data": {
      "text/plain": [
       "3.2091602576536449"
      ]
     },
     "execution_count": 146,
     "metadata": {},
     "output_type": "execute_result"
    }
   ],
   "source": [
    "pred_xi[304635]"
   ]
  },
  {
   "cell_type": "code",
   "execution_count": 147,
   "metadata": {
    "collapsed": false
   },
   "outputs": [
    {
     "data": {
      "text/plain": [
       "2.3304324150000002"
      ]
     },
     "execution_count": 147,
     "metadata": {},
     "output_type": "execute_result"
    }
   ],
   "source": [
    "target[304635]"
   ]
  },
  {
   "cell_type": "code",
   "execution_count": null,
   "metadata": {
    "collapsed": true
   },
   "outputs": [],
   "source": []
  },
  {
   "cell_type": "code",
   "execution_count": null,
   "metadata": {
    "collapsed": true
   },
   "outputs": [],
   "source": []
  },
  {
   "cell_type": "code",
   "execution_count": null,
   "metadata": {
    "collapsed": true
   },
   "outputs": [],
   "source": []
  },
  {
   "cell_type": "code",
   "execution_count": null,
   "metadata": {
    "collapsed": true
   },
   "outputs": [],
   "source": []
  }
 ],
 "metadata": {
  "kernelspec": {
   "display_name": "Python 2",
   "language": "python",
   "name": "python2"
  },
  "language_info": {
   "codemirror_mode": {
    "name": "ipython",
    "version": 2
   },
   "file_extension": ".py",
   "mimetype": "text/x-python",
   "name": "python",
   "nbconvert_exporter": "python",
   "pygments_lexer": "ipython2",
   "version": "2.7.13"
  }
 },
 "nbformat": 4,
 "nbformat_minor": 0
}
